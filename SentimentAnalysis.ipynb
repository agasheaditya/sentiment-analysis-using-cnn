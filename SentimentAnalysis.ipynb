{
 "cells": [
  {
   "cell_type": "markdown",
   "id": "9ea8342f",
   "metadata": {},
   "source": [
    "# Sentiment Analysis : NLP\n",
    "\n",
    "#### References : \n",
    "* Paper : https://aclanthology.org/D14-1181/\n",
    "* Data : https://www.kaggle.com/datasets/bittlingmayer/amazonreviews\n",
    "\n",
    "#### Dependancy : \n",
    "\n",
    "* pip install bz2file"
   ]
  },
  {
   "cell_type": "code",
   "execution_count": 1,
   "id": "aa83a87f",
   "metadata": {},
   "outputs": [
    {
     "name": "stderr",
     "output_type": "stream",
     "text": [
      "D:\\Python\\pytorch\\env\\lib\\site-packages\\tqdm\\auto.py:22: TqdmWarning: IProgress not found. Please update jupyter and ipywidgets. See https://ipywidgets.readthedocs.io/en/stable/user_install.html\n",
      "  from .autonotebook import tqdm as notebook_tqdm\n"
     ]
    }
   ],
   "source": [
    "import torch\n",
    "import torch.nn as nn\n",
    "import torch.nn.functional as F\n",
    "import torch.optim as optim\n",
    "from torch.utils.data import TensorDataset, DataLoader\n",
    "\n",
    "import numpy as np\n",
    "import pandas as pd\n",
    "import random\n",
    "import bz2\n",
    "# Preprocess text data\n",
    "\n",
    "import nltk\n",
    "from nltk.corpus import stopwords\n",
    "from nltk.tokenize import word_tokenize\n",
    "from nltk.stem.porter import PorterStemmer\n",
    "\n",
    "from collections import Counter\n",
    "\n",
    "from tqdm import tqdm\n",
    "tqdm.pandas()\n"
   ]
  },
  {
   "cell_type": "code",
   "execution_count": 2,
   "id": "68cea037",
   "metadata": {},
   "outputs": [
    {
     "name": "stdout",
     "output_type": "stream",
     "text": [
      "cuda\n",
      "NVIDIA GeForce RTX 2060\n"
     ]
    }
   ],
   "source": [
    "# Set device\n",
    "device = torch.device('cuda' if torch.cuda.is_available() else 'cpu')\n",
    "print(device)\n",
    "print(torch.cuda.get_device_name(0))"
   ]
  },
  {
   "cell_type": "code",
   "execution_count": 3,
   "id": "40c7d7d8",
   "metadata": {},
   "outputs": [],
   "source": [
    "# Read data\n",
    "def get_data_and_labels(filename):\n",
    "    labels = []\n",
    "    texts = []\n",
    "    for row in bz2.BZ2File(filename):\n",
    "        x = row.decode(\"utf-8\")\n",
    "        labels.append(int(x[9]) - 1)\n",
    "        texts.append(x[10:].strip())\n",
    "    labels = labels[:int(len(labels) * 0.01)]\n",
    "    texts = texts[:int(len(texts) * 0.01)]\n",
    "    return np.array(labels), texts\n",
    "\n",
    "train_labels, train_texts = get_data_and_labels(\"../dataset/amazon-reviews-sentiment-analysis/train.ft.txt.bz2\")\n",
    "test_labels, test_texts = get_data_and_labels(\"../dataset/amazon-reviews-sentiment-analysis/test.ft.txt.bz2\")\n",
    "\n",
    "# converting into dataframe \n",
    "train_df = pd.DataFrame(zip(train_texts, train_labels), columns=[\"text\", \"label\"])\n",
    "test_df = pd.DataFrame(zip(test_texts, test_labels), columns=[\"text\", \"label\"])"
   ]
  },
  {
   "cell_type": "code",
   "execution_count": 4,
   "id": "938a4dc4",
   "metadata": {},
   "outputs": [
    {
     "data": {
      "text/html": [
       "<div>\n",
       "<style scoped>\n",
       "    .dataframe tbody tr th:only-of-type {\n",
       "        vertical-align: middle;\n",
       "    }\n",
       "\n",
       "    .dataframe tbody tr th {\n",
       "        vertical-align: top;\n",
       "    }\n",
       "\n",
       "    .dataframe thead th {\n",
       "        text-align: right;\n",
       "    }\n",
       "</style>\n",
       "<table border=\"1\" class=\"dataframe\">\n",
       "  <thead>\n",
       "    <tr style=\"text-align: right;\">\n",
       "      <th></th>\n",
       "      <th>text</th>\n",
       "      <th>label</th>\n",
       "    </tr>\n",
       "  </thead>\n",
       "  <tbody>\n",
       "    <tr>\n",
       "      <th>1934</th>\n",
       "      <td>A booklet- not a textbook!: At 60 pages,this i...</td>\n",
       "      <td>0</td>\n",
       "    </tr>\n",
       "    <tr>\n",
       "      <th>20230</th>\n",
       "      <td>A good book for understand higher dimensions: ...</td>\n",
       "      <td>1</td>\n",
       "    </tr>\n",
       "    <tr>\n",
       "      <th>203</th>\n",
       "      <td>Not Like the Old Formula: The formulation of t...</td>\n",
       "      <td>0</td>\n",
       "    </tr>\n",
       "    <tr>\n",
       "      <th>16172</th>\n",
       "      <td>GoFit 75cm Pro Stability Ball: The worst purch...</td>\n",
       "      <td>0</td>\n",
       "    </tr>\n",
       "    <tr>\n",
       "      <th>8170</th>\n",
       "      <td>This movie stinks!: This movie proves that hol...</td>\n",
       "      <td>0</td>\n",
       "    </tr>\n",
       "  </tbody>\n",
       "</table>\n",
       "</div>"
      ],
      "text/plain": [
       "                                                    text  label\n",
       "1934   A booklet- not a textbook!: At 60 pages,this i...      0\n",
       "20230  A good book for understand higher dimensions: ...      1\n",
       "203    Not Like the Old Formula: The formulation of t...      0\n",
       "16172  GoFit 75cm Pro Stability Ball: The worst purch...      0\n",
       "8170   This movie stinks!: This movie proves that hol...      0"
      ]
     },
     "metadata": {},
     "output_type": "display_data"
    },
    {
     "name": "stdout",
     "output_type": "stream",
     "text": [
      "label\n",
      "1    18180\n",
      "0    17820\n",
      "Name: count, dtype: int64\n"
     ]
    }
   ],
   "source": [
    "display(train_df.sample(5))\n",
    "print(train_df.label.value_counts())"
   ]
  },
  {
   "cell_type": "code",
   "execution_count": 5,
   "id": "e123f7a0",
   "metadata": {},
   "outputs": [
    {
     "data": {
      "text/html": [
       "<div>\n",
       "<style scoped>\n",
       "    .dataframe tbody tr th:only-of-type {\n",
       "        vertical-align: middle;\n",
       "    }\n",
       "\n",
       "    .dataframe tbody tr th {\n",
       "        vertical-align: top;\n",
       "    }\n",
       "\n",
       "    .dataframe thead th {\n",
       "        text-align: right;\n",
       "    }\n",
       "</style>\n",
       "<table border=\"1\" class=\"dataframe\">\n",
       "  <thead>\n",
       "    <tr style=\"text-align: right;\">\n",
       "      <th></th>\n",
       "      <th>text</th>\n",
       "      <th>label</th>\n",
       "    </tr>\n",
       "  </thead>\n",
       "  <tbody>\n",
       "    <tr>\n",
       "      <th>1438</th>\n",
       "      <td>A Lesson in Human Tragedy: This piece is ultim...</td>\n",
       "      <td>1</td>\n",
       "    </tr>\n",
       "    <tr>\n",
       "      <th>823</th>\n",
       "      <td>Intriguing beginning and then schmaltz: I won'...</td>\n",
       "      <td>0</td>\n",
       "    </tr>\n",
       "    <tr>\n",
       "      <th>390</th>\n",
       "      <td>Beyond the mega-hit, preview of better things ...</td>\n",
       "      <td>1</td>\n",
       "    </tr>\n",
       "    <tr>\n",
       "      <th>2595</th>\n",
       "      <td>Very disappointed!: Very disappointed with thi...</td>\n",
       "      <td>0</td>\n",
       "    </tr>\n",
       "    <tr>\n",
       "      <th>851</th>\n",
       "      <td>Worse than \"The Quest\": The beginning of the f...</td>\n",
       "      <td>0</td>\n",
       "    </tr>\n",
       "  </tbody>\n",
       "</table>\n",
       "</div>"
      ],
      "text/plain": [
       "                                                   text  label\n",
       "1438  A Lesson in Human Tragedy: This piece is ultim...      1\n",
       "823   Intriguing beginning and then schmaltz: I won'...      0\n",
       "390   Beyond the mega-hit, preview of better things ...      1\n",
       "2595  Very disappointed!: Very disappointed with thi...      0\n",
       "851   Worse than \"The Quest\": The beginning of the f...      0"
      ]
     },
     "metadata": {},
     "output_type": "display_data"
    },
    {
     "name": "stdout",
     "output_type": "stream",
     "text": [
      "label\n",
      "1    2049\n",
      "0    1951\n",
      "Name: count, dtype: int64\n"
     ]
    }
   ],
   "source": [
    "display(test_df.sample(5))\n",
    "print(test_df.label.value_counts())"
   ]
  },
  {
   "cell_type": "code",
   "execution_count": 6,
   "id": "f1b9f6a0",
   "metadata": {},
   "outputs": [],
   "source": [
    "stop_words = stopwords.words('english')\n",
    "stemmer = PorterStemmer()"
   ]
  },
  {
   "cell_type": "code",
   "execution_count": 7,
   "id": "b4753595",
   "metadata": {},
   "outputs": [],
   "source": [
    "def preprocess_text(text):\n",
    "    tokens = word_tokenize(text.lower())\n",
    "    tokens = [stemmer.stem(token) for token in tokens if token not in stop_words]\n",
    "    return tokens"
   ]
  },
  {
   "cell_type": "code",
   "execution_count": 8,
   "id": "b3018850",
   "metadata": {},
   "outputs": [
    {
     "name": "stderr",
     "output_type": "stream",
     "text": [
      "100%|███████████████████████████████████████████████████████████████████████████████████████████████████████████████| 36000/36000 [00:42<00:00, 837.66it/s]\n",
      "100%|█████████████████████████████████████████████████████████████████████████████████████████████████████████████████| 4000/4000 [00:04<00:00, 836.43it/s]\n"
     ]
    }
   ],
   "source": [
    "train_df['tokens'] = train_df['text'].progress_apply(preprocess_text)\n",
    "test_df['tokens'] = test_df['text'].progress_apply(preprocess_text)"
   ]
  },
  {
   "cell_type": "code",
   "execution_count": 9,
   "id": "62a03726",
   "metadata": {},
   "outputs": [
    {
     "name": "stderr",
     "output_type": "stream",
     "text": [
      "100%|████████████████████████████████████████████████████████████████████████████████████████████████████████████| 36000/36000 [00:00<00:00, 158173.82it/s]\n"
     ]
    }
   ],
   "source": [
    "# Build vocabulary (afterwords the tensors made out of this need to be converted on CUDA device otherwise it will raise an error)\n",
    "word_to_idx = {}\n",
    "for tokens in tqdm(train_df['tokens']):\n",
    "    for token in tokens:\n",
    "        if token not in word_to_idx:\n",
    "            word_to_idx[token] = len(word_to_idx)"
   ]
  },
  {
   "cell_type": "code",
   "execution_count": 10,
   "id": "2ade8477",
   "metadata": {
    "scrolled": true
   },
   "outputs": [
    {
     "name": "stderr",
     "output_type": "stream",
     "text": [
      "100%|████████████████████████████████████████████████████████████████████████████████████████████████████████████| 36000/36000 [00:00<00:00, 100103.38it/s]\n",
      "100%|███████████████████████████████████████████████████████████████████████████████████████████████████████████████| 4000/4000 [00:00<00:00, 82506.16it/s]\n"
     ]
    }
   ],
   "source": [
    "# Convert tokens to numerical indices wrt to word_to_idx\n",
    "train_df['indices'] = train_df['tokens'].progress_apply(lambda x: [word_to_idx[token] for token in x])\n",
    "test_df['indices'] = test_df['tokens'].progress_apply(lambda x: [word_to_idx[token] if token in word_to_idx.keys() else 17 for token in x])"
   ]
  },
  {
   "cell_type": "code",
   "execution_count": 11,
   "id": "fe091e20",
   "metadata": {},
   "outputs": [
    {
     "data": {
      "text/html": [
       "<div>\n",
       "<style scoped>\n",
       "    .dataframe tbody tr th:only-of-type {\n",
       "        vertical-align: middle;\n",
       "    }\n",
       "\n",
       "    .dataframe tbody tr th {\n",
       "        vertical-align: top;\n",
       "    }\n",
       "\n",
       "    .dataframe thead th {\n",
       "        text-align: right;\n",
       "    }\n",
       "</style>\n",
       "<table border=\"1\" class=\"dataframe\">\n",
       "  <thead>\n",
       "    <tr style=\"text-align: right;\">\n",
       "      <th></th>\n",
       "      <th>text</th>\n",
       "      <th>label</th>\n",
       "      <th>tokens</th>\n",
       "      <th>indices</th>\n",
       "    </tr>\n",
       "  </thead>\n",
       "  <tbody>\n",
       "    <tr>\n",
       "      <th>0</th>\n",
       "      <td>Stuning even for the non-gamer: This sound tra...</td>\n",
       "      <td>1</td>\n",
       "      <td>[stune, even, non-gam, :, sound, track, beauti...</td>\n",
       "      <td>[0, 1, 2, 3, 4, 5, 6, 7, 8, 9, 10, 11, 12, 13,...</td>\n",
       "    </tr>\n",
       "    <tr>\n",
       "      <th>1</th>\n",
       "      <td>The best soundtrack ever to anything.: I'm rea...</td>\n",
       "      <td>1</td>\n",
       "      <td>[best, soundtrack, ever, anyth, ., :, 'm, read...</td>\n",
       "      <td>[24, 41, 23, 42, 17, 3, 43, 44, 45, 46, 47, 24...</td>\n",
       "    </tr>\n",
       "    <tr>\n",
       "      <th>2</th>\n",
       "      <td>Amazing!: This soundtrack is my favorite music...</td>\n",
       "      <td>1</td>\n",
       "      <td>[amaz, !, :, soundtrack, favorit, music, time,...</td>\n",
       "      <td>[82, 7, 3, 41, 83, 19, 84, 71, 85, 17, 86, 87,...</td>\n",
       "    </tr>\n",
       "    <tr>\n",
       "      <th>3</th>\n",
       "      <td>Excellent Soundtrack: I truly like this soundt...</td>\n",
       "      <td>1</td>\n",
       "      <td>[excel, soundtrack, :, truli, like, soundtrack...</td>\n",
       "      <td>[135, 41, 3, 136, 109, 41, 137, 138, 18, 19, 1...</td>\n",
       "    </tr>\n",
       "    <tr>\n",
       "      <th>4</th>\n",
       "      <td>Remember, Pull Your Jaw Off The Floor After He...</td>\n",
       "      <td>1</td>\n",
       "      <td>[rememb, ,, pull, jaw, floor, hear, :, 've, pl...</td>\n",
       "      <td>[178, 71, 179, 180, 181, 182, 3, 94, 20, 18, 7...</td>\n",
       "    </tr>\n",
       "  </tbody>\n",
       "</table>\n",
       "</div>"
      ],
      "text/plain": [
       "                                                text  label   \n",
       "0  Stuning even for the non-gamer: This sound tra...      1  \\\n",
       "1  The best soundtrack ever to anything.: I'm rea...      1   \n",
       "2  Amazing!: This soundtrack is my favorite music...      1   \n",
       "3  Excellent Soundtrack: I truly like this soundt...      1   \n",
       "4  Remember, Pull Your Jaw Off The Floor After He...      1   \n",
       "\n",
       "                                              tokens   \n",
       "0  [stune, even, non-gam, :, sound, track, beauti...  \\\n",
       "1  [best, soundtrack, ever, anyth, ., :, 'm, read...   \n",
       "2  [amaz, !, :, soundtrack, favorit, music, time,...   \n",
       "3  [excel, soundtrack, :, truli, like, soundtrack...   \n",
       "4  [rememb, ,, pull, jaw, floor, hear, :, 've, pl...   \n",
       "\n",
       "                                             indices  \n",
       "0  [0, 1, 2, 3, 4, 5, 6, 7, 8, 9, 10, 11, 12, 13,...  \n",
       "1  [24, 41, 23, 42, 17, 3, 43, 44, 45, 46, 47, 24...  \n",
       "2  [82, 7, 3, 41, 83, 19, 84, 71, 85, 17, 86, 87,...  \n",
       "3  [135, 41, 3, 136, 109, 41, 137, 138, 18, 19, 1...  \n",
       "4  [178, 71, 179, 180, 181, 182, 3, 94, 20, 18, 7...  "
      ]
     },
     "execution_count": 11,
     "metadata": {},
     "output_type": "execute_result"
    }
   ],
   "source": [
    "train_df.head()"
   ]
  },
  {
   "cell_type": "code",
   "execution_count": 12,
   "id": "4e514461",
   "metadata": {},
   "outputs": [],
   "source": [
    "# Pad sequences\n",
    "max_len = max(len(seq) for seq in train_df['indices'])\n",
    "train_df['padded'] = train_df['indices'].apply(lambda x: x + [0]*(max_len-len(x)))\n",
    "test_df['padded'] = test_df['indices'].apply(lambda x: x + [0]*(max_len-len(x)))"
   ]
  },
  {
   "cell_type": "code",
   "execution_count": 13,
   "id": "1efcdb00",
   "metadata": {},
   "outputs": [
    {
     "data": {
      "text/html": [
       "<div>\n",
       "<style scoped>\n",
       "    .dataframe tbody tr th:only-of-type {\n",
       "        vertical-align: middle;\n",
       "    }\n",
       "\n",
       "    .dataframe tbody tr th {\n",
       "        vertical-align: top;\n",
       "    }\n",
       "\n",
       "    .dataframe thead th {\n",
       "        text-align: right;\n",
       "    }\n",
       "</style>\n",
       "<table border=\"1\" class=\"dataframe\">\n",
       "  <thead>\n",
       "    <tr style=\"text-align: right;\">\n",
       "      <th></th>\n",
       "      <th>text</th>\n",
       "      <th>label</th>\n",
       "      <th>tokens</th>\n",
       "      <th>indices</th>\n",
       "      <th>padded</th>\n",
       "    </tr>\n",
       "  </thead>\n",
       "  <tbody>\n",
       "    <tr>\n",
       "      <th>0</th>\n",
       "      <td>Stuning even for the non-gamer: This sound tra...</td>\n",
       "      <td>1</td>\n",
       "      <td>[stune, even, non-gam, :, sound, track, beauti...</td>\n",
       "      <td>[0, 1, 2, 3, 4, 5, 6, 7, 8, 9, 10, 11, 12, 13,...</td>\n",
       "      <td>[0, 1, 2, 3, 4, 5, 6, 7, 8, 9, 10, 11, 12, 13,...</td>\n",
       "    </tr>\n",
       "    <tr>\n",
       "      <th>1</th>\n",
       "      <td>The best soundtrack ever to anything.: I'm rea...</td>\n",
       "      <td>1</td>\n",
       "      <td>[best, soundtrack, ever, anyth, ., :, 'm, read...</td>\n",
       "      <td>[24, 41, 23, 42, 17, 3, 43, 44, 45, 46, 47, 24...</td>\n",
       "      <td>[24, 41, 23, 42, 17, 3, 43, 44, 45, 46, 47, 24...</td>\n",
       "    </tr>\n",
       "    <tr>\n",
       "      <th>2</th>\n",
       "      <td>Amazing!: This soundtrack is my favorite music...</td>\n",
       "      <td>1</td>\n",
       "      <td>[amaz, !, :, soundtrack, favorit, music, time,...</td>\n",
       "      <td>[82, 7, 3, 41, 83, 19, 84, 71, 85, 17, 86, 87,...</td>\n",
       "      <td>[82, 7, 3, 41, 83, 19, 84, 71, 85, 17, 86, 87,...</td>\n",
       "    </tr>\n",
       "    <tr>\n",
       "      <th>3</th>\n",
       "      <td>Excellent Soundtrack: I truly like this soundt...</td>\n",
       "      <td>1</td>\n",
       "      <td>[excel, soundtrack, :, truli, like, soundtrack...</td>\n",
       "      <td>[135, 41, 3, 136, 109, 41, 137, 138, 18, 19, 1...</td>\n",
       "      <td>[135, 41, 3, 136, 109, 41, 137, 138, 18, 19, 1...</td>\n",
       "    </tr>\n",
       "    <tr>\n",
       "      <th>4</th>\n",
       "      <td>Remember, Pull Your Jaw Off The Floor After He...</td>\n",
       "      <td>1</td>\n",
       "      <td>[rememb, ,, pull, jaw, floor, hear, :, 've, pl...</td>\n",
       "      <td>[178, 71, 179, 180, 181, 182, 3, 94, 20, 18, 7...</td>\n",
       "      <td>[178, 71, 179, 180, 181, 182, 3, 94, 20, 18, 7...</td>\n",
       "    </tr>\n",
       "  </tbody>\n",
       "</table>\n",
       "</div>"
      ],
      "text/plain": [
       "                                                text  label   \n",
       "0  Stuning even for the non-gamer: This sound tra...      1  \\\n",
       "1  The best soundtrack ever to anything.: I'm rea...      1   \n",
       "2  Amazing!: This soundtrack is my favorite music...      1   \n",
       "3  Excellent Soundtrack: I truly like this soundt...      1   \n",
       "4  Remember, Pull Your Jaw Off The Floor After He...      1   \n",
       "\n",
       "                                              tokens   \n",
       "0  [stune, even, non-gam, :, sound, track, beauti...  \\\n",
       "1  [best, soundtrack, ever, anyth, ., :, 'm, read...   \n",
       "2  [amaz, !, :, soundtrack, favorit, music, time,...   \n",
       "3  [excel, soundtrack, :, truli, like, soundtrack...   \n",
       "4  [rememb, ,, pull, jaw, floor, hear, :, 've, pl...   \n",
       "\n",
       "                                             indices   \n",
       "0  [0, 1, 2, 3, 4, 5, 6, 7, 8, 9, 10, 11, 12, 13,...  \\\n",
       "1  [24, 41, 23, 42, 17, 3, 43, 44, 45, 46, 47, 24...   \n",
       "2  [82, 7, 3, 41, 83, 19, 84, 71, 85, 17, 86, 87,...   \n",
       "3  [135, 41, 3, 136, 109, 41, 137, 138, 18, 19, 1...   \n",
       "4  [178, 71, 179, 180, 181, 182, 3, 94, 20, 18, 7...   \n",
       "\n",
       "                                              padded  \n",
       "0  [0, 1, 2, 3, 4, 5, 6, 7, 8, 9, 10, 11, 12, 13,...  \n",
       "1  [24, 41, 23, 42, 17, 3, 43, 44, 45, 46, 47, 24...  \n",
       "2  [82, 7, 3, 41, 83, 19, 84, 71, 85, 17, 86, 87,...  \n",
       "3  [135, 41, 3, 136, 109, 41, 137, 138, 18, 19, 1...  \n",
       "4  [178, 71, 179, 180, 181, 182, 3, 94, 20, 18, 7...  "
      ]
     },
     "execution_count": 13,
     "metadata": {},
     "output_type": "execute_result"
    }
   ],
   "source": [
    "train_df.head()"
   ]
  },
  {
   "cell_type": "code",
   "execution_count": 14,
   "id": "a7dd416f",
   "metadata": {},
   "outputs": [],
   "source": [
    "# Convert to tensors\n",
    "X_train = torch.tensor(np.array(train_df['padded'].tolist()))\n",
    "y_train = torch.tensor(np.array(train_df['label'].tolist())).long()\n",
    "\n",
    "X_test = torch.tensor(np.array(test_df['padded'].tolist()))\n",
    "y_test = torch.tensor(np.array(test_df['label'].tolist())).long()"
   ]
  },
  {
   "cell_type": "markdown",
   "id": "792bdadd",
   "metadata": {},
   "source": [
    " ### Building a model"
   ]
  },
  {
   "cell_type": "code",
   "execution_count": 15,
   "id": "080ec82e",
   "metadata": {},
   "outputs": [],
   "source": [
    "class CNN(nn.Module):\n",
    "    def __init__(self, vocab_size, embedding_dims, n_filters, filter_sizes, output_dim, dropout, pad_idx):\n",
    "        super().__init__()\n",
    "        \n",
    "        self.embedding = nn.Embedding(vocab_size, embedding_dims, padding_idx=pad_idx) \n",
    "        self.conv_0 = nn.Conv2d(in_channels=1, out_channels=n_filters, kernel_size= (filter_sizes[0], embedding_dims))\n",
    "        self.conv_1 = nn.Conv2d(in_channels=1, out_channels=n_filters, kernel_size= (filter_sizes[1], embedding_dims))\n",
    "        self.conv_2 = nn.Conv2d(in_channels=1, out_channels=n_filters, kernel_size= (filter_sizes[2], embedding_dims))\n",
    "        \n",
    "        self.fc = nn.Linear(len(filter_sizes) * n_filters, output_dim)\n",
    "        self.dropout = nn.Dropout(dropout)\n",
    "    \n",
    "    def forward(self, text):\n",
    "        #text = [batch size, sent len]\n",
    "        embedded = self.embedding(text)\n",
    "        #embedded = [batch size, sent len, emb dim]\n",
    "        embedded = embedded.unsqueeze(1)\n",
    "        #embedded = [batch size, 1, sent len, emb dim]\n",
    "        convd_0 = F.relu(self.conv_0(embedded).squeeze(3))\n",
    "        convd_1 = F.relu(self.conv_1(embedded).squeeze(3))        \n",
    "        convd_2 = F.relu(self.conv_2(embedded).squeeze(3))  \n",
    "        \n",
    "        #conved_n = [batch size, n_filters, sent len - filter_sizes[n] + 1]\n",
    "        pooled_0 = F.max_pool1d(convd_0, convd_0.shape[2]).squeeze(2)\n",
    "        pooled_1 = F.max_pool1d(convd_1, convd_1.shape[2]).squeeze(2)        \n",
    "        pooled_2 = F.max_pool1d(convd_2, convd_2.shape[2]).squeeze(2)\n",
    "        \n",
    "        #pooled_n = [batch size, n_filters]\n",
    "        cat = self.dropout(torch.cat((pooled_0, pooled_1, pooled_2), dim = 1))\n",
    "        \n",
    "        #cat = [batch size, n_filters * len(filter_sizes)]\n",
    "        return self.fc(cat)"
   ]
  },
  {
   "cell_type": "code",
   "execution_count": 16,
   "id": "ad9b99e3",
   "metadata": {},
   "outputs": [],
   "source": [
    "# Define model hyperparameters\n",
    "vocab_size = len(word_to_idx)\n",
    "embedding_dims = 100\n",
    "n_filters = 100\n",
    "filter_sizes = [3, 4, 5]\n",
    "output_dim = 2\n",
    "dropout = 0.5\n",
    "pad_idx = 0\n",
    "batch_size = 32\n",
    "learning_rate = 0.001\n",
    "num_epochs = 10"
   ]
  },
  {
   "cell_type": "code",
   "execution_count": null,
   "id": "5826088d",
   "metadata": {},
   "outputs": [],
   "source": []
  },
  {
   "cell_type": "code",
   "execution_count": 17,
   "id": "80587993",
   "metadata": {},
   "outputs": [],
   "source": [
    "X_train = X_train.to(device)\n",
    "y_train = y_train.to(device)\n",
    "X_test = X_test.to(device)\n",
    "y_test = y_test.to(device)\n",
    "\n",
    "train_data = TensorDataset(X_train, y_train)\n",
    "train_loader = DataLoader(train_data, batch_size=batch_size, shuffle=True)\n",
    "\n",
    "test_data = TensorDataset(X_test, y_test)\n",
    "test_loader = DataLoader(test_data, batch_size=batch_size, shuffle=True)"
   ]
  },
  {
   "cell_type": "code",
   "execution_count": 18,
   "id": "e2f9f3fa",
   "metadata": {},
   "outputs": [],
   "source": [
    "# Instantiate model and move to device\n",
    "model = CNN(vocab_size, embedding_dims, n_filters, filter_sizes, output_dim, dropout, pad_idx).to(device)\n",
    "\n",
    "# Define loss function and optimizer\n",
    "criterion = nn.CrossEntropyLoss()\n",
    "optimizer = torch.optim.Adam(model.parameters(), lr=learning_rate)"
   ]
  },
  {
   "cell_type": "code",
   "execution_count": 19,
   "id": "99d12ecf",
   "metadata": {},
   "outputs": [],
   "source": [
    "from tqdm import tqdm"
   ]
  },
  {
   "cell_type": "code",
   "execution_count": 20,
   "id": "b9460c12",
   "metadata": {},
   "outputs": [
    {
     "name": "stdout",
     "output_type": "stream",
     "text": [
      "Epoch 1/10: Train Loss: 610.1081, Train Acc: 72.23%, Test Loss: 47.1772, Test Acc: 83.30%\n",
      "Epoch 2/10: Train Loss: 426.2246, Train Acc: 82.83%, Test Loss: 43.3729, Test Acc: 85.08%\n",
      "Epoch 3/10: Train Loss: 341.8595, Train Acc: 87.00%, Test Loss: 42.1496, Test Acc: 85.92%\n",
      "Epoch 4/10: Train Loss: 282.1348, Train Acc: 89.72%, Test Loss: 41.4804, Test Acc: 86.33%\n",
      "Epoch 5/10: Train Loss: 229.3114, Train Acc: 91.83%, Test Loss: 49.1287, Test Acc: 84.40%\n",
      "Epoch 6/10: Train Loss: 183.7502, Train Acc: 93.78%, Test Loss: 50.7152, Test Acc: 85.42%\n",
      "Epoch 7/10: Train Loss: 133.9479, Train Acc: 95.50%, Test Loss: 61.5720, Test Acc: 84.58%\n",
      "Epoch 8/10: Train Loss: 103.6976, Train Acc: 96.61%, Test Loss: 67.8914, Test Acc: 84.65%\n",
      "Epoch 9/10: Train Loss: 74.6697, Train Acc: 97.59%, Test Loss: 81.6929, Test Acc: 84.28%\n",
      "Epoch 10/10: Train Loss: 63.6842, Train Acc: 98.01%, Test Loss: 88.5330, Test Acc: 84.53%\n"
     ]
    }
   ],
   "source": [
    "for epoch in range(num_epochs):\n",
    "    train_loss = 0\n",
    "    train_correct = 0\n",
    "    train_total = 0\n",
    "    model.train()\n",
    "    for inputs, labels in train_loader:\n",
    "        optimizer.zero_grad()\n",
    "        outputs = model(inputs)\n",
    "        loss = criterion(outputs, labels)\n",
    "        loss.backward()\n",
    "        optimizer.step()\n",
    "        train_loss += loss.item()\n",
    "        _, predicted = torch.max(outputs.data, 1)\n",
    "        train_total += labels.size(0)\n",
    "        train_correct += (predicted == labels).sum().item()\n",
    "    train_acc = 100 * train_correct / train_total\n",
    "\n",
    "    test_loss = 0\n",
    "    test_correct = 0\n",
    "    test_total = 0\n",
    "    model.eval()\n",
    "    with torch.no_grad():\n",
    "        for inputs, labels in test_loader:\n",
    "            outputs = model(inputs)\n",
    "            loss = criterion(outputs, labels)\n",
    "            test_loss += loss.item()\n",
    "            _, predicted = torch.max(outputs.data, 1)\n",
    "            test_total += labels.size(0)\n",
    "            test_correct += (predicted == labels).sum().item()\n",
    "    test_acc = 100 * test_correct / test_total\n",
    "\n",
    "    print(f\"Epoch {epoch+1}/{num_epochs}: Train Loss: {train_loss:.4f}, Train Acc: {train_acc:.2f}%, Test Loss: {test_loss:.4f}, Test Acc: {test_acc:.2f}%\")"
   ]
  },
  {
   "cell_type": "code",
   "execution_count": 21,
   "id": "a7c59ac7",
   "metadata": {},
   "outputs": [
    {
     "name": "stdout",
     "output_type": "stream",
     "text": [
      "Accuracy on test set: 84.52%\n"
     ]
    }
   ],
   "source": [
    "def evaluate(model, X_test, y_test):\n",
    "    with torch.no_grad():\n",
    "        outputs = model(X_test)\n",
    "        predicted = torch.argmax(outputs, dim=1)\n",
    "        correct = (predicted == y_test).sum().item()\n",
    "        total = y_test.size(0)\n",
    "        accuracy = correct / total\n",
    "        return accuracy\n",
    "\n",
    "accuracy = evaluate(model, X_test, y_test)\n",
    "print('Accuracy on test set: {:.2f}%'.format(accuracy*100))"
   ]
  },
  {
   "cell_type": "code",
   "execution_count": 22,
   "id": "2bbb00f8",
   "metadata": {},
   "outputs": [],
   "source": [
    "word_to_idx['<unk>'] = len(word_to_idx)"
   ]
  },
  {
   "cell_type": "code",
   "execution_count": 31,
   "id": "75473d73",
   "metadata": {},
   "outputs": [
    {
     "name": "stdout",
     "output_type": "stream",
     "text": [
      "The sentiment of \"i am a bad boy\" is \"negative\"\n"
     ]
    }
   ],
   "source": [
    "def predict_sentiment(model, sentence, word_to_idx):\n",
    "    # Tokenize and preprocess the input text\n",
    "    sentence = preprocess_text(sentence)\n",
    "    indexed = [word_to_idx.get(word, word_to_idx['<unk>']) for word in sentence]\n",
    "    tensor = torch.LongTensor(indexed).unsqueeze(0).to(device)\n",
    "\n",
    "    # Pad the input sequence to be at least as long as the largest filter size\n",
    "    max_filter_size = max([3,4,5])#max(model.filter_sizes)\n",
    "    if tensor.size(1) < max_filter_size:\n",
    "        padding = torch.zeros(1, max_filter_size - tensor.size(1), dtype=torch.long).to(device)\n",
    "        tensor = torch.cat([tensor, padding], dim=1)\n",
    "\n",
    "    # Evaluate the model and return the predicted sentiment\n",
    "    with torch.no_grad():\n",
    "        model.eval()\n",
    "        outputs = model(tensor)\n",
    "        prediction = torch.sigmoid(outputs).squeeze().tolist()\n",
    "        sentiment = 'positive' if prediction[0] <= 0.5 else 'negative'\n",
    "        return sentiment\n",
    "\n",
    "\n",
    "text = \"i am a bad boy\"\n",
    "sentiment = predict_sentiment(model, text, word_to_idx)\n",
    "print(f'The sentiment of \"{text}\" is \"{sentiment}\"')"
   ]
  },
  {
   "cell_type": "code",
   "execution_count": null,
   "id": "720b3e36",
   "metadata": {},
   "outputs": [],
   "source": []
  }
 ],
 "metadata": {
  "kernelspec": {
   "display_name": "Python 3 (ipykernel)",
   "language": "python",
   "name": "python3"
  },
  "language_info": {
   "codemirror_mode": {
    "name": "ipython",
    "version": 3
   },
   "file_extension": ".py",
   "mimetype": "text/x-python",
   "name": "python",
   "nbconvert_exporter": "python",
   "pygments_lexer": "ipython3",
   "version": "3.10.7"
  }
 },
 "nbformat": 4,
 "nbformat_minor": 5
}
